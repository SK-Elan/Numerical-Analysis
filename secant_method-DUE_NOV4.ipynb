{
 "cells": [
  {
   "cell_type": "markdown",
   "metadata": {},
   "source": [
    "_Done in class_ Complete the following code to implement the secant method. Write the code to estimate a root of the function $f(x) = \\cos(x)$ with initial guesses `x[0]=2.5` and `x[1]=2`, with a tolerance of $10^{-10}$, and maximum number of iterations equal to 32. "
   ]
  },
  {
   "cell_type": "code",
   "execution_count": 7,
   "metadata": {},
   "outputs": [
    {
     "name": "stdout",
     "output_type": "stream",
     "text": [
      "max_iter: 6\n",
      "Final Root estimate: 1.5707963267948966 \n",
      "\n",
      "XVals, Roots: [2.5        2.         1.45954504 1.57336505 1.57079114 1.57079633\n",
      " 1.57079633 0.         0.         0.         0.         0.\n",
      " 0.         0.         0.         0.         0.         0.\n",
      " 0.         0.         0.         0.         0.         0.\n",
      " 0.         0.         0.         0.         0.         0.\n",
      " 0.         0.        ] \n",
      "\n",
      "actErr: [ 0.         -0.92920367  0.11125129  0.00256873  0.00000518  0.\n",
      "  0.          0.          0.          0.          0.          0.\n",
      "  0.          0.          0.          0.          0.          0.\n",
      "  0.          0.          0.          0.          0.          0.\n",
      "  0.          0.          0.          0.          0.          0.\n",
      "  0.          0.        ] \n",
      "\n",
      "approxErr: [ 0.         -0.5         0.54045496  0.11382001  0.00257391  0.00000518\n",
      "  0.          0.          0.          0.          0.          0.\n",
      "  0.          0.          0.          0.          0.          0.\n",
      "  0.          0.          0.          0.          0.          0.\n",
      "  0.          0.          0.          0.          0.          0.\n",
      "  0.          0.        ] \n",
      "\n"
     ]
    },
    {
     "name": "stderr",
     "output_type": "stream",
     "text": [
      "/opt/anaconda3/lib/python3.7/site-packages/ipykernel_launcher.py:66: RuntimeWarning: divide by zero encountered in log\n",
      "/opt/anaconda3/lib/python3.7/site-packages/ipykernel_launcher.py:66: RuntimeWarning: invalid value encountered in log\n",
      "/opt/anaconda3/lib/python3.7/site-packages/ipykernel_launcher.py:67: RuntimeWarning: divide by zero encountered in log\n",
      "/opt/anaconda3/lib/python3.7/site-packages/ipykernel_launcher.py:67: RuntimeWarning: invalid value encountered in log\n"
     ]
    },
    {
     "data": {
      "text/plain": [
       "<matplotlib.legend.Legend at 0x11c52b990>"
      ]
     },
     "execution_count": 7,
     "metadata": {},
     "output_type": "execute_result"
    },
    {
     "data": {
      "image/png": "[encoded data removed]",
      "text/plain": [
       "<Figure size 432x288 with 1 Axes>"
      ]
     },
     "metadata": {
      "needs_background": "light"
     },
     "output_type": "display_data"
    }
   ],
   "source": [
    "#import necesssary packages\n",
    "%matplotlib inline\n",
    "import numpy as np\n",
    "import matplotlib.pyplot as plt\n",
    "\n",
    "# define function that you're finding the root of\n",
    "def f(x):\n",
    "    return np.cos(x)\n",
    "\n",
    "# Actual root of function\n",
    "actRoot = np.pi/2\n",
    "\n",
    "##initialization\n",
    "#2 initial guesses\n",
    "x_0 = 2.5\n",
    "x_1 = 2\n",
    "\n",
    "#max number of iterations\n",
    "maxIter = 32\n",
    "\n",
    "#tolerance\n",
    "eps = 10 ** -10\n",
    "\n",
    "#Array to hold solutions (initialize with zeros: note the first two entries\n",
    "# don't count as iterations.)\n",
    "x = np.zeros(maxIter)\n",
    "\n",
    "\n",
    "# first two entries of the array consists of the two initial guesses\n",
    "x[0:2] = x_0, x_1\n",
    "\n",
    "#Arrays to hold approx and actual errors (initialize with zeros)\n",
    "approxErr = np.zeros(maxIter)\n",
    "approxErr[1] = x[1] - x[0]\n",
    "\n",
    "actErr = np.zeros(maxIter)\n",
    "actErr[1] = actRoot - x[0]\n",
    "\n",
    "\n",
    "##computation\n",
    "# Iterative estimates:  the number of iterations should be limited to the \n",
    "# max. number of iterations specified above.\n",
    "for i in range(2, maxIter):\n",
    "    max_iter = i\n",
    "#     approxDer = (f(x[i-1]) - f(x[i-2])) / (x[i-1] - x[i-2]) #Approximate Derivative\n",
    "#     x[i] = x[i-1] - (f(x[i-1])/approxDer)\n",
    "    x[i] = x[i-1] - ((f(x[i-1]) * (x[i-1]-x[i-2]))/(f(x[i-1]) - f(x[i-2]))) # Obtain next root guess \n",
    "    actErr[i] = abs(actRoot - x[i])   #Obtain actual absolute error (not relative)\n",
    "    approxErr[i] = abs(x[i] - x[i-1])  #Obtain approximate absolute error (not relative)\n",
    "    if approxErr[i] < eps:       # break from loop if tolerance (based on absolute approx error) is reache\n",
    "        break\n",
    "\n",
    "print(\"max_iter:\", max_iter)\n",
    "\n",
    "print('Final Root estimate:', x[max_iter], \"\\n\") ##output final root estimate\n",
    "print(\"XVals, Roots:\", x,  \"\\n\")\n",
    "print('actErr:', actErr, '\\n')\n",
    "print(\"approxErr:\", approxErr,  \"\\n\")\n",
    "\n",
    "\n",
    "# Plot the logarithm of the actual and approximate errors\n",
    "# Add labels and titles to the plots\n",
    "\n",
    "plt.figure()\n",
    "\n",
    "plt.plot(range(maxIter), np.log(actErr), label = 'Actual')\n",
    "plt.plot(range(1, maxIter), np.log(approxErr[1:]), label = 'Approximate')\n",
    "plt.xlabel('Iterations')\n",
    "plt.ylabel('Error ($\\log_e$)')\n",
    "plt.title(' Actual vs Approximate')\n",
    "\n",
    "plt.legend()\n",
    "\n",
    "\n"
   ]
  },
  {
   "cell_type": "markdown",
   "metadata": {},
   "source": [
    "2. Use secant method on the function $f(x) = x + x^2$ with initial guesses `x[0]=-.01` and `x[1] = .01`. Compute 5 additional estimates, for a total of 7 root estimates.  Let `err[0] ... err[6]` be the errors for your 7 estimates. Create two plots: in the first plot, plot the values `0,...,6` on the $x$ axis and `log(abs(err))/log(abs(err[0]))` on the $y$ axis.  In the second plot, plot the values `1,...,6` on the $x$ axis and `abs(err[1:] / abs(err[:-1])`.  See if you can explain the patterns that you see."
   ]
  },
  {
   "cell_type": "code",
   "execution_count": 6,
   "metadata": {},
   "outputs": [
    {
     "name": "stderr",
     "output_type": "stream",
     "text": [
      "/opt/anaconda3/lib/python3.7/site-packages/ipykernel_launcher.py:72: RuntimeWarning: divide by zero encountered in log\n",
      "/opt/anaconda3/lib/python3.7/site-packages/ipykernel_launcher.py:81: RuntimeWarning: divide by zero encountered in log\n",
      "/opt/anaconda3/lib/python3.7/site-packages/ipykernel_launcher.py:81: RuntimeWarning: invalid value encountered in true_divide\n",
      "No handles with labels found to put in legend.\n"
     ]
    },
    {
     "name": "stdout",
     "output_type": "stream",
     "text": [
      "max_iter: 8 \n",
      "\n",
      "Final Root estimate: 0.0 \n",
      "\n",
      "Root Estimates: [-0.01        0.01       -0.0001     -0.00000099  0.         -0.\n",
      " -0.          0.          0.          0.          0.          0.\n",
      "  0.          0.          0.          0.          0.          0.\n",
      "  0.          0.          0.          0.          0.          0.\n",
      "  0.          0.          0.          0.          0.          0.\n",
      "  0.          0.          0.          0.          0.          0.\n",
      "  0.        ] \n",
      "\n",
      "actErr: [0.01       0.01       0.0001     0.00000099 0.         0.\n",
      " 0.         0.         0.         0.         0.         0.\n",
      " 0.         0.         0.         0.         0.         0.\n",
      " 0.         0.         0.         0.         0.         0.\n",
      " 0.         0.         0.         0.         0.         0.\n",
      " 0.         0.         0.         0.         0.         0.\n",
      " 0.        ]\n"
     ]
    },
    {
     "data": {
      "image/png": "[encoded data removed]",
      "text/plain": [
       "<Figure size 432x288 with 1 Axes>"
      ]
     },
     "metadata": {
      "needs_background": "light"
     },
     "output_type": "display_data"
    },
    {
     "data": {
      "image/png": "[encoded data removed]",
      "text/plain": [
       "<Figure size 432x288 with 1 Axes>"
      ]
     },
     "metadata": {
      "needs_background": "light"
     },
     "output_type": "display_data"
    }
   ],
   "source": [
    "#import necesssary packages\n",
    "%matplotlib inline\n",
    "import numpy as np\n",
    "import matplotlib.pyplot as plt\n",
    "\n",
    "# define function that you're finding the root of\n",
    "def f(x):\n",
    "    return x + (x**2)\n",
    "\n",
    "# Actual root of function\n",
    "actRoot = 0\n",
    "\n",
    "##initialization\n",
    "#2 initial guesses\n",
    "x_0 = -0.01\n",
    "x_1 = 0.01\n",
    "\n",
    "##Additional estimates \n",
    "ad = 5\n",
    "\n",
    "#max number of iterations\n",
    "maxIter = 32 + ad\n",
    "\n",
    "\n",
    "\n",
    "#tolerance\n",
    "eps = 10 ** -40\n",
    "\n",
    "#Array to hold solutions (initialize with zeros: note the first two entries\n",
    "# don't count as iterations.)\n",
    "x = np.zeros(maxIter)\n",
    "\n",
    "\n",
    "# first two entries of the array consists of the two initial guesses\n",
    "x[0:2] = x_0, x_1\n",
    "\n",
    "#Arrays to hold approx and actual errors (initialize with zeros)\n",
    "approxErr = np.zeros(maxIter)\n",
    "approxErr[1] = abs(x[1] - x[0])\n",
    "\n",
    "actErr = np.zeros(maxIter)\n",
    "actErr[0:2] = abs(actRoot - x[0:2])\n",
    "\n",
    "\n",
    "##computation\n",
    "# Iterative estimates:  the number of iterations should be limited to the \n",
    "# max. number of iterations specified above.\n",
    "for i in range(2, maxIter):\n",
    "    max_iter = i\n",
    "#     approxDer = (f(x[i-1]) - f(x[i-2])) / (x[i-1] - x[i-2]) #Approximate Derivative\n",
    "#     x[i] = x[i-1] - (f(x[i-1])/approxDer)\n",
    "    x[i] = x[i-1] - ((f(x[i-1]) * (x[i-1]-x[i-2]))/(f(x[i-1]) - f(x[i-2]))) # Obtain next root guess \n",
    "    actErr[i] = abs(actRoot - x[i])   #Obtain actual absolute error (not relative)\n",
    "    approxErr[i] = abs(x[i] - x[i-1])  #Obtain approximate absolute error (not relative)\n",
    "    if approxErr[i] < eps:       # break from loop if tolerance (based on absolute approx error) is reached\n",
    "        break\n",
    "\n",
    "print(\"max_iter:\", max_iter, \"\\n\")\n",
    "\n",
    "print('Final Root estimate:', x[max_iter], \"\\n\") ##output final root estimate\n",
    "print(\"Root Estimates:\", x, \"\\n\")\n",
    "\n",
    "\n",
    "plt.figure(1)\n",
    "#plot the values 0,...,6 on the  𝑥 axis and log(abs(err))/log(abs(err[0]))\n",
    "# In the second plot, plot the values 1,...,6 on the  𝑥 axis and log(abs(err[1:]) / log(abs(err[:-1]))\n",
    "#err[:-1] returns everything up to but excluding the last element\n",
    "#err[1:] returns ALL elements starting from index 1. Excludes first elem with index 0\n",
    "\n",
    "n = 2 + max_iter #Let n = 2 + max_iter\n",
    "\n",
    "plt.plot(range(maxIter), np.log(actErr)/np.log(actErr[0]), '*', label = '')\n",
    "# plt.plot(range(1, n), np.log(actErr[1:n])/np.log(actErr[:n][:-1]), label = '') #[:n][:-1] Takes first n elements then drop the last one\n",
    "plt.xlabel('Iterations')\n",
    "plt.ylabel('Error ($\\log_e$)')\n",
    "plt.title('Rate of Change of Errors')\n",
    "\n",
    "\n",
    "plt.figure(2)\n",
    "\n",
    "plt.plot(range(1, maxIter), np.log(actErr[1:])/np.log(actErr[:-1]), label = '') # [:-1] drops the last element\n",
    "plt.xlabel('Iterations')\n",
    "plt.ylabel('Change in Error')\n",
    "plt.title('Rate of Change of Consecutive Errors ')\n",
    "\n",
    "\n",
    "plt.legend()\n",
    "\n",
    "np.set_printoptions(suppress=True) ##Use to get results in float rather than exponential form\n",
    "\n",
    "print('actErr:', actErr)\n",
    "\n",
    "\n"
   ]
  },
  {
   "cell_type": "code",
   "execution_count": 9,
   "metadata": {},
   "outputs": [],
   "source": [
    "##Graph 1 displays error values: 1,1, 2, 3, 5, 8, 13, 21,... which represents the fibonaccie sequence.\n",
    "\n",
    "##After around five iteration the error terms converges to approximately 1.6...phi..."
   ]
  },
  {
   "cell_type": "markdown",
   "metadata": {},
   "source": [
    "3. Modify your code from (1) so that it performs the method of false position instead of the secant method.  Compare the convergence with the secant method on the above example, and on the function $f(x) = 10^x - 2$ with initial guesses `x[0]=0` and `x[1] = 1`."
   ]
  },
  {
   "cell_type": "code",
   "execution_count": 8,
   "metadata": {
    "scrolled": true
   },
   "outputs": [
    {
     "name": "stdout",
     "output_type": "stream",
     "text": [
      "Final Iteration Number: 31\n",
      "Final Root estimate: 0.30102997118083014 \n",
      "\n",
      "XVals, Roots: [0.11111111 0.18342405 0.22914158 0.25746107 0.2747675  0.28525276\n",
      " 0.29157132 0.29536646 0.29764142 0.29900348 0.29981838 0.30030571\n",
      " 0.30059707 0.30077124 0.30087534 0.30093757 0.30097476 0.30099698\n",
      " 0.30101026 0.3010182  0.30102295 0.30102578 0.30102748 0.30102849\n",
      " 0.3010291  0.30102946 0.30102967 0.3010298  0.30102988 0.30102993\n",
      " 0.30102995 0.30102997] \n",
      "\n",
      "actErr: [0.18991889 0.11760595 0.07188842 0.04356893 0.0262625  0.01577724\n",
      " 0.00945868 0.00566354 0.00338858 0.00202652 0.00121162 0.00072429\n",
      " 0.00043293 0.00025876 0.00015466 0.00009243 0.00005524 0.00003302\n",
      " 0.00001974 0.0000118  0.00000705 0.00000422 0.00000252 0.00000151\n",
      " 0.0000009  0.00000054 0.00000033 0.0000002  0.00000012 0.00000007\n",
      " 0.00000005 0.00000003] \n",
      "\n",
      "approxErr: [0.         0.07231294 0.04571753 0.02831948 0.01730643 0.01048526\n",
      " 0.00631856 0.00379515 0.00227496 0.00136206 0.0008149  0.00048733\n",
      " 0.00029136 0.00017417 0.00010411 0.00006222 0.00003719 0.00002223\n",
      " 0.00001328 0.00000794 0.00000474 0.00000284 0.00000169 0.00000101\n",
      " 0.00000061 0.00000036 0.00000022 0.00000013 0.00000008 0.00000005\n",
      " 0.00000003 0.00000002] \n",
      "\n"
     ]
    },
    {
     "name": "stderr",
     "output_type": "stream",
     "text": [
      "/opt/anaconda3/lib/python3.7/site-packages/ipykernel_launcher.py:83: RuntimeWarning: divide by zero encountered in log\n"
     ]
    },
    {
     "data": {
      "image/png": "[encoded data removed]",
      "text/plain": [
       "<Figure size 432x288 with 1 Axes>"
      ]
     },
     "metadata": {
      "needs_background": "light"
     },
     "output_type": "display_data"
    }
   ],
   "source": [
    "#import necesssary packages\n",
    "%matplotlib inline\n",
    "import numpy as np\n",
    "import matplotlib.pyplot as plt\n",
    "\n",
    "# define function that you're finding the root of\n",
    "def f(x):\n",
    "    return 10**x -2\n",
    "\n",
    "# Actual root of function\n",
    "actRoot = 0.30103\n",
    "\n",
    "##initialization\n",
    "#2 initial guesses\n",
    "x_l = 0\n",
    "x_u = 1\n",
    "\n",
    "\n",
    "#max number of iterations\n",
    "maxIter = 32\n",
    "\n",
    "#tolerance\n",
    "eps = 10 ** -10\n",
    "\n",
    "#Array to hold solutions (initialize with zeros: note the first two entries\n",
    "# don't count as iterations.)\n",
    "x = np.zeros(maxIter)\n",
    "\n",
    "\n",
    "###Inittialize first solution\n",
    "a = f(x_l) ### see other versions of formula\n",
    "b = (f(x_u) - f(x_l)) / (x_u - x_l) ### or see other versions of this formula\n",
    "x_r = x_l - (a/b)\n",
    "\n",
    "x[0] = x_r\n",
    "\n",
    "\n",
    "\n",
    "#Arrays to hold approx and actual errors (initialize with zeros)\n",
    "approxErr = np.zeros(maxIter)\n",
    "\n",
    "actErr = np.zeros(maxIter)\n",
    "\n",
    "\n",
    "##computation\n",
    "# Iterative estimates:  the number of iterations should be limited to the \n",
    "# max. number of iterations specified above.\n",
    "for i in range(maxIter):\n",
    "    IterNo = i #keeping track of iteration number\n",
    "    \n",
    "    if f(x_l)*f(x_r) == 0:\n",
    "        break\n",
    "        \n",
    "    elif f(x_l)*f(x_r) < 0:\n",
    "        x_l = x_l\n",
    "        x_u = x_r\n",
    "        \n",
    "    else:\n",
    "        x_l = x_r\n",
    "        x_u = x_u\n",
    "        \n",
    "    x[i] = x_r # Store root\n",
    "    \n",
    "    a = f(x_l) ### see other versions of formula\n",
    "    b = (f(x_u) - f(x_l)) / (x_u - x_l) ### see other versions of this formula\n",
    "    x_r = x_l - (a/b)\n",
    "        \n",
    "    actErr[i] = abs(actRoot - x[i])   #Obtain actual absolute error (not relative)\n",
    "    for i in range(1, maxIter):\n",
    "        approxErr[i] = abs(x[i] - x[i-1])  #Obtain approximate absolute error (not relative)\n",
    "        if approxErr[i] < eps:       # break from loop if tolerance (based on absolute approx error) is reache\n",
    "            break\n",
    "\n",
    "print(\"Final Iteration Number:\", IterNo)\n",
    "\n",
    "print('Final Root estimate:', x[IterNo], \"\\n\") ##output final root estimate\n",
    "print(\"XVals, Roots:\", x,  \"\\n\")\n",
    "\n",
    "\n",
    "plt.figure()\n",
    "\n",
    "plt.plot(range(maxIter), np.log(actErr), label = 'Actual')\n",
    "plt.plot(range(maxIter), np.log(approxErr), label = 'Approximate')\n",
    "plt.xlabel('Iterations')\n",
    "plt.ylabel('Error ($\\log_e$)')\n",
    "plt.title(' Actual vs Approximate')\n",
    "\n",
    "plt.legend()\n",
    "\n",
    "\n",
    "np.set_printoptions(suppress=True)###Use to get results in float rather than exponential form\n",
    "\n",
    "\n",
    "\n",
    "print('actErr:', actErr, '\\n')\n",
    "print('approxErr:', approxErr, '\\n')\n",
    "# # print(\"range:\",range(2+max_iter))\n",
    "\n"
   ]
  },
  {
   "cell_type": "markdown",
   "metadata": {},
   "source": [
    "Here the actual errors and the approximate errors are fairly close. Here it takes more iteration to reach the desired tolerance level than does the secant method in 1 above. The error decreases as the number of iteration increases."
   ]
  },
  {
   "cell_type": "code",
   "execution_count": null,
   "metadata": {},
   "outputs": [],
   "source": []
  },
  {
   "cell_type": "code",
   "execution_count": null,
   "metadata": {},
   "outputs": [],
   "source": []
  }
 ],
 "metadata": {
  "kernelspec": {
   "display_name": "Python 3",
   "language": "python",
   "name": "python3"
  },
  "language_info": {
   "codemirror_mode": {
    "name": "ipython",
    "version": 3
   },
   "file_extension": ".py",
   "mimetype": "text/x-python",
   "name": "python",
   "nbconvert_exporter": "python",
   "pygments_lexer": "ipython3",
   "version": "3.7.4"
  }
 },
 "nbformat": 4,
 "nbformat_minor": 2
}
