{
 "cells": [
  {
   "cell_type": "code",
   "execution_count": 3,
   "metadata": {},
   "outputs": [
    {
     "data": {
      "image/png": "[encoded data removed]",
      "text/plain": [
       "<Figure size 432x288 with 1 Axes>"
      ]
     },
     "metadata": {
      "needs_background": "light"
     },
     "output_type": "display_data"
    },
    {
     "name": "stdout",
     "output_type": "stream",
     "text": [
      "0.5772112825121349\n"
     ]
    }
   ],
   "source": [
    "import numpy as np\n",
    "import matplotlib.pyplot as plt \n",
    "\n",
    "np.set_printoptions(suppress=True)\n",
    "\n",
    "##Matrix in form AB = C  \n",
    "\n",
    "\n",
    "##define function to calculate the value of y\n",
    "def fn(x):\n",
    "    return np.exp(-x) * np.cos(10*x**2) #np.sin(x) \n",
    "\n",
    "###INitializations\n",
    "\n",
    "#Create vector x\n",
    "x = np.sqrt(np.arange(0, 64.001)/16)#64.001 #np.sqrt(np.arange(0,32.001)/8) ##NOTE SMALL x HERE\n",
    "\n",
    "\n",
    "## define N as the length of x\n",
    "N = len(x)\n",
    "\n",
    "#define n as the number of quadratic splines\n",
    "#There are n splines, each having 3 unknowns:total 3n unknowns\n",
    "#Therefore, we need 3n equations in order to solve for\n",
    "n = N-1 ##n = 32\n",
    "\n",
    "#Create Matrix A\n",
    "A = np.zeros((3*n, 3*n))*1.0\n",
    "\n",
    "#Create vector C\n",
    "C = np.zeros(3*n)*1.0\n",
    "\n",
    "\n",
    "#\n",
    "for i in range(n):\n",
    "    A[i,i] = x[i]**2\n",
    "    A[i,n+i] = x[i]\n",
    "    A[i,2*n+i] = 1\n",
    "    \n",
    "    #Rows n to 2n-1\n",
    "    A[n+i, i] = x[i+1]**2\n",
    "    A[n+i, n+i] = x[i+1]\n",
    "    A[n+i, 2*n+i] = 1\n",
    "    \n",
    "    C[i] = fn(x[i])\n",
    "    C[n+i] = fn(x[i+1])\n",
    "\n",
    "\n",
    "    ###Rows 2n: 3n-1\n",
    "for j in range(n-1): \n",
    "    A[2*n+j, [j, j+1, n+j, n+j+1]] = 2*x[j+1], -2*x[j+1], 1, -1\n",
    "    \n",
    "    ##C[2n+j] = 0 #ALREADY ZERO\n",
    "\n",
    "#In final row set a1 = 1    \n",
    "A[3*n -1, 0] = 1\n",
    "\n",
    "##Solve for vector b\n",
    "B = np.linalg.solve(A,C)\n",
    "#B_ = np.dot(np.linalg.inv(A), C)\n",
    "\n",
    "ai = B[:n]\n",
    "bi = B[n:2*n]\n",
    "ci = B[2*n:]\n",
    "\n",
    "\n",
    "plt.figure()\n",
    "\n",
    "for k in range(n):\n",
    "    xspline = np.linspace(x[k], x[k+1], 100)\n",
    "    yspline = ai[k]*xspline**2 + bi[k]*xspline + ci[k]\n",
    "    \n",
    "    plt.plot(xspline, yspline, 'b-')\n",
    "\n",
    "plt.xlabel('x')\n",
    "plt.ylabel('y')\n",
    "plt.title('Quadratic Splines ($f(x) = e^{-x}\\cos(10x^{2})$)')\n",
    "\n",
    "plt.show()\n",
    "\n",
    "\n",
    "\n",
    "\n",
    "##############5b\n",
    "        \n",
    "###5b\n",
    "result = 0\n",
    "\n",
    "for t in range(n):\n",
    "    upper_lim = (ai[t]*(x[t+1]**3)/3) + (bi[t]*(x[t+1]**2)/2) + ci[t]*x[t+1]\n",
    "    lower_lim = (ai[t]*(x[t]**3)/3) + (bi[t]*(x[t]**2)/2) + ci[t]*x[t]\n",
    "    \n",
    "    result += abs((upper_lim - lower_lim))\n",
    "    \n",
    "    \n",
    "print(result)\n",
    "        \n",
    "        \n",
    "        \n",
    "    \n",
    "    \n",
    "    \n",
    "    "
   ]
  },
  {
   "cell_type": "code",
   "execution_count": null,
   "metadata": {},
   "outputs": [],
   "source": []
  }
 ],
 "metadata": {
  "kernelspec": {
   "display_name": "Python 3",
   "language": "python",
   "name": "python3"
  },
  "language_info": {
   "codemirror_mode": {
    "name": "ipython",
    "version": 3
   },
   "file_extension": ".py",
   "mimetype": "text/x-python",
   "name": "python",
   "nbconvert_exporter": "python",
   "pygments_lexer": "ipython3",
   "version": "3.7.3"
  }
 },
 "nbformat": 4,
 "nbformat_minor": 2
}
