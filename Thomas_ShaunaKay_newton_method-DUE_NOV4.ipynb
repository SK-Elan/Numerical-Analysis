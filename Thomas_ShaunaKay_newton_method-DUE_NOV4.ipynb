{
 "cells": [
  {
   "cell_type": "markdown",
   "metadata": {},
   "source": [
    "__Warmup__\n",
    "\n",
    "Use Newton's method to estimate a root of cos x. Initial guess is 2.\n",
    "\n",
    "Newton's method equation is:\n",
    "$$x_{i+1}=x_i - \\frac{f(x_i)}{f'(x_i)}$$\n",
    "\n",
    "Relative error equation is\n",
    "$$\\left|\\epsilon_a\\right|=\\left|\\frac{x_{i+1}-x_i}{x_{i+1}}\\right|\\times 100$$\n",
    "\n",
    "* Set the max number of iterations  for the method at 20\n",
    "* Set a minimum denominator of `1E-20`\n",
    "* Set a  tolerance of `5E-8` for the relative approximate error\n",
    "\n",
    "[Click here for Video link](https://youtu.be/n3SnbAtVYR4). Note ERRORS in video:\n",
    "\n",
    " - Newton's formula is:  x_{i+1} = x_i  MINUS f(x_i)/f'(x_i).  The code is right, the description is wrong.\n",
    " - The approximate relative error should be in percent, so the formula in line 47 should be:\n",
    "approxRelError[i+1]=abs(approxError[i+1]/xiPlus1)*100"
   ]
  },
  {
   "cell_type": "code",
   "execution_count": 4,
   "metadata": {},
   "outputs": [
    {
     "name": "stdout",
     "output_type": "stream",
     "text": [
      "Root at: 1.5707963267948966 with tolerance 5e-08\n"
     ]
    },
    {
     "data": {
      "image/png": "[encoded data removed]",
      "text/plain": [
       "<Figure size 432x288 with 1 Axes>"
      ]
     },
     "metadata": {
      "needs_background": "light"
     },
     "output_type": "display_data"
    }
   ],
   "source": [
    "### Load necessary packages\n",
    "import numpy as np\n",
    "import matplotlib.pyplot as plt\n",
    "%matplotlib inline\n",
    "\n",
    "##Initialization\n",
    "#Function to be used\n",
    "def fn(x):\n",
    "    return np.cos(x)\n",
    "\n",
    "#derivative of function\n",
    "def fnPrime(x):\n",
    "    return -np.sin(x)\n",
    "\n",
    "#Initial guess for root\n",
    "x0 = 2\n",
    "\n",
    "#Actual root\n",
    "ActualRoot = np.pi/2\n",
    "\n",
    "#Maximum number of iterations that you would like to use\n",
    "maxIter = 20\n",
    "\n",
    "#minDivisor allows us to not divide by too small a number, if so we need to break\n",
    "minDivisor = 1E-20\n",
    "\n",
    "#Tolerance level can be set for desired significant digits\n",
    "#If approximate relative error (in percent) is less than tolerance, break\n",
    "tolerance = 5E-8\n",
    "\n",
    "\n",
    "#Array to store data for each iteration (to plot at the end)\n",
    "\n",
    "approxError = np.zeros(maxIter)\n",
    "approxRelError = np.zeros(maxIter)\n",
    "actualError = np.zeros(maxIter)\n",
    "actualRelError = np.zeros(maxIter)\n",
    "\n",
    "\n",
    "\n",
    "##Calculation\n",
    "#Set initial x as first value in iteration\n",
    "xi = x0\n",
    "\n",
    "\n",
    "#Loop: iterate to max number\n",
    "for i in range(maxIter):\n",
    "    #Calculate actual and relative errors\n",
    "    iter_cutoff = i\n",
    "    actualError[i] = abs(ActualRoot - xi)\n",
    "    actualRelError[i] = abs(actualError[i]/ActualRoot)*100\n",
    "    \n",
    "    #Ensure denominator is not too small -- causes convergence problems\n",
    "    fprime = fnPrime(xi)\n",
    "    if abs(fprime) < minDivisor:\n",
    "        print(\"Deriv. is too smaall: root probably has multiplicity > 1\")\n",
    "        break\n",
    "    \n",
    "    #update root estimate\n",
    "    xiPlus1 = xi - (fn(xi)/fprime)\n",
    "    \n",
    "    \n",
    "    #Calculate approximate error and relative error\n",
    "    approxError[i+1] = abs(xiPlus1 - xi)\n",
    "    approxRelError[i+1] = abs(approxError[i+1]/xiPlus1)*100 #xiPlus1\n",
    "    #If close enough then stop\n",
    "    if approxRelError[i+1] <= tolerance:\n",
    "        break\n",
    "    \n",
    "    #Update xi\n",
    "    xi = xiPlus1\n",
    "    \n",
    "    \n",
    "##Presentation\n",
    "#Print root\n",
    "print(\"Root at:\", xi, \"with tolerance\", tolerance)\n",
    "\n",
    "#Create figure for approximate and actual relative error\n",
    "plt.figure(1)\n",
    "plt.plot(np.arange(1, iter_cutoff+1), approxRelError[1: iter_cutoff+1], label = \"Approx. Rel. Error\")\n",
    "plt.plot(np.arange(iter_cutoff+1), actualRelError[ : iter_cutoff+1], label = \"Actual Rel. Error\")\n",
    "\n",
    "#Annotate the plot:\n",
    "\n",
    "#change y scale to logarithmic\n",
    "plt.yscale('log')\n",
    "\n",
    "#Add labels to axes\n",
    "plt.xlabel('Iteration Number')\n",
    "plt.ylabel('Relative Error')\n",
    "\n",
    "\n",
    "#Add legend and title then show\n",
    "plt.title(\"Approximate and actual relative errors for Newton's method\")\n",
    "plt.legend(loc = 3)\n",
    "plt.show()\n",
    "\n",
    "\n",
    "\n"
   ]
  },
  {
   "cell_type": "markdown",
   "metadata": {},
   "source": [
    "1.a.\t(Answer this part on a sheet of paper – scan and submit the scan as an attachment on Canvas.)  Use your code to estimate a root of $f(x) =x^3 - x$, starting with the initial guess $x_0=\\frac{1}{\\sqrt{5}}$.  What happens? Create a diagram (you can do on paper, or write a code) similar to this [figure](http://fourier.eng.hmc.edu/e176/lectures/figures/NewtonRaphson.png) to explain what’s happening. (You may start with $n=0$, and go up to $n=3$.)  \n",
    "\n",
    "1.b. What happens to Newton’s method when the initial guess is slightly smaller than $\\frac{1}{\\sqrt{5}}$? Show the resulting $x_0,  x_{1} , x_{2}m x_3$ on your diagram from 1a.) \n",
    "\n",
    "1.c. When the initial guess is larger than $\\frac{1}{\\sqrt{5}}$, does the process always converge to the same value? Try a few different values, and show $x_0, x_{1} , x_{2}, x_3$ for two different cases. (I recommend you use different colors for the different $x_0$’s).   \n",
    "\n",
    "1.d. What do these results tell you in general about the choice of initial guesses for Newton’s method? \n"
   ]
  },
  {
   "cell_type": "code",
   "execution_count": null,
   "metadata": {},
   "outputs": [],
   "source": [
    "##See attachment for #1 responses"
   ]
  },
  {
   "cell_type": "code",
   "execution_count": null,
   "metadata": {},
   "outputs": [],
   "source": []
  },
  {
   "cell_type": "markdown",
   "metadata": {},
   "source": [
    "2.a. The Newton's method formula $x_{i+1}=x_i - \\frac{f(x_i)}{f'(x_i)}$ can be written in the form:\n",
    "$x_{i+1} = g(x_i).$\n",
    "Write the function $g(x)$ in terms of $f(x)$ and express its derivative $g'(x)$ and second derivative $g''(x)$ in terms of the derivatives of $f(x)$.\n",
    "\n",
    "2.b. Suppose that $r$ is a root of the function $f(x)$, so that $f(r)$ = 0.   Recall that the Taylor series expansion for $f(x)$ with expansion point $r$ has the form: $g(x) = g(r) + c_1(x-r) + c_2 (x-r)^2 + O((x-r)^3)$, where the '$O$' term  means that the approximation error when using the first 3 terms of this series is roughly proportional to $(x-r)^3$.   Find the coefficients $c_1$ and $c_2$ in terms of $f'(r)$ and $f''(r)$. \n",
    "\n",
    "2.c. Given $f$ and $r$ as in (3), and let $f'(r) = a$ and $f''(r)=b$. Suppose also that $|x_i - r | < \\frac{|a|}{|b|}$.  Show that $|g(x_i) - r| < \\frac{1}{2}|x_i - r | + O((x_i-r)^3)$.    \n",
    "\n",
    "2.d. Assuming that the $O((x_i-r)^3)$ term in the previous inequality is negligible, show that if the function $f$ and point $x_i$ satisfy the conditions in (3) and (4) above then the sequence $x_i, x_{i+1}, x_{i+2}, ...$ converges to the root $r$. \n",
    "\n",
    "2.e. Given $f,r,x_i$ as in (3,4,5) Let $\\epsilon_j$ be the absolute true error for $x_j$, i.e. $\\epsilon_j = |x_j-r|$. Assuming that the $O((x-r)^3)$ term is very small, show that $\\epsilon_{j+1} \\approx k\\epsilon_{j}^2$ for some constant $k$, and find the value of $k$. (The '$\\approx$' symbol means \"approximately equal to\")\n",
    "\n",
    "2.f. Explain why the error curves produced by the code in the video are NOT straight lines.\n",
    "\n"
   ]
  },
  {
   "cell_type": "code",
   "execution_count": null,
   "metadata": {},
   "outputs": [],
   "source": [
    "##See attachment for #2 responses"
   ]
  }
 ],
 "metadata": {
  "kernelspec": {
   "display_name": "Python 3",
   "language": "python",
   "name": "python3"
  },
  "language_info": {
   "codemirror_mode": {
    "name": "ipython",
    "version": 3
   },
   "file_extension": ".py",
   "mimetype": "text/x-python",
   "name": "python",
   "nbconvert_exporter": "python",
   "pygments_lexer": "ipython3",
   "version": "3.7.4"
  }
 },
 "nbformat": 4,
 "nbformat_minor": 2
}
