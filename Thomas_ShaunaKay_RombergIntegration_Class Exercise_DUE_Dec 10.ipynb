{
 "cells": [
  {
   "cell_type": "markdown",
   "metadata": {},
   "source": [
    "# Romberg's Rule"
   ]
  },
  {
   "cell_type": "code",
   "execution_count": null,
   "metadata": {},
   "outputs": [],
   "source": [
    "#Generate a vector that starts at one vec[2, 1:]"
   ]
  },
  {
   "cell_type": "code",
   "execution_count": 1,
   "metadata": {},
   "outputs": [],
   "source": [
    "import numpy as np\n",
    "import matplotlib.pyplot as plt\n",
    "\n",
    "# np.set_printoptions(suppress=True)\n",
    "\n",
    "#Initialialize n (as power of 2)\n",
    "n = 4\n",
    "\n",
    "#Function that you are integrating (define a function)\n",
    "def romFun(x):\n",
    "    return np.sin(x)\n",
    "#     return np.ones(len(x))\n",
    "\n",
    "#Limits (vector of length 2)\n",
    "limVec = np.array([0, np.pi])\n",
    "\n",
    "\n",
    "#Array where Romberg results will go ((n+1) * (n+1) array. Initialize as zeros)\n",
    "romResult = np.zeros((n+1,n+1), dtype = float)\n",
    "\n",
    "#compute first row trapezoid rule\n",
    "#Generate points\n",
    "\n",
    "ptVec = np.linspace(limVec[0], limVec[-1], 2**n+1)\n",
    "\n",
    "#use loop to generate trapezoid approximations\n",
    "funVec = romFun(ptVec)\n",
    "\n",
    "for ii in range(n+1):\n",
    "    h = (limVec[-1] - limVec[0])/(2**ii)\n",
    "    romResult[0,ii] = h * (sum(funVec[::2**(n-ii)]) - (funVec[0] + funVec[-1])/2)\n",
    "    \n",
    "for k in range(1,n+1):\n",
    "    romResult[k,:-k] = romResult[k-1,1:(n-k+2)] + (romResult[k-1,1:(n-k+2)] - romResult[k-1,:-k])/(4**k-1)"
   ]
  },
  {
   "cell_type": "code",
   "execution_count": 2,
   "metadata": {},
   "outputs": [
    {
     "data": {
      "text/plain": [
       "array([[1.92367069e-16, 1.57079633e+00, 1.89611890e+00, 1.97423160e+00,\n",
       "        1.99357034e+00],\n",
       "       [2.09439510e+00, 2.00455975e+00, 2.00026917e+00, 2.00001659e+00,\n",
       "        0.00000000e+00],\n",
       "       [1.99857073e+00, 1.99998313e+00, 1.99999975e+00, 0.00000000e+00,\n",
       "        0.00000000e+00],\n",
       "       [2.00000555e+00, 2.00000002e+00, 0.00000000e+00, 0.00000000e+00,\n",
       "        0.00000000e+00],\n",
       "       [1.99999999e+00, 0.00000000e+00, 0.00000000e+00, 0.00000000e+00,\n",
       "        0.00000000e+00]])"
      ]
     },
     "execution_count": 2,
     "metadata": {},
     "output_type": "execute_result"
    }
   ],
   "source": [
    "romResult"
   ]
  },
  {
   "cell_type": "code",
   "execution_count": null,
   "metadata": {},
   "outputs": [],
   "source": []
  }
 ],
 "metadata": {
  "kernelspec": {
   "display_name": "Python 3",
   "language": "python",
   "name": "python3"
  },
  "language_info": {
   "codemirror_mode": {
    "name": "ipython",
    "version": 3
   },
   "file_extension": ".py",
   "mimetype": "text/x-python",
   "name": "python",
   "nbconvert_exporter": "python",
   "pygments_lexer": "ipython3",
   "version": "3.7.3"
  }
 },
 "nbformat": 4,
 "nbformat_minor": 2
}
