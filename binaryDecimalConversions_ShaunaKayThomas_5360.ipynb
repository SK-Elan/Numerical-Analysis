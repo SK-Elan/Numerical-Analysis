{
 "cells": [
  {
   "cell_type": "markdown",
   "metadata": {},
   "source": [
    "In this assignment, you will create several functions that perform various conversions of _positive_ numbers from binary to decimal and vice versa. \n",
    "You will do both fixed point and floating point. \n",
    "\n",
    "You will need to import numpy.  I suggest that you use: "
   ]
  },
  {
   "cell_type": "code",
   "execution_count": 1,
   "metadata": {},
   "outputs": [],
   "source": [
    "from numpy import *"
   ]
  },
  {
   "cell_type": "markdown",
   "metadata": {},
   "source": [
    "You will be using bit arrays and numbers. A bit array is an array of 0's and 1's, such as:"
   ]
  },
  {
   "cell_type": "code",
   "execution_count": 2,
   "metadata": {},
   "outputs": [],
   "source": [
    "bitArray1 = array([1,1,1,0,1])"
   ]
  },
  {
   "cell_type": "code",
   "execution_count": 3,
   "metadata": {},
   "outputs": [
    {
     "data": {
      "text/plain": [
       "1"
      ]
     },
     "execution_count": 3,
     "metadata": {},
     "output_type": "execute_result"
    }
   ],
   "source": [
    "bitArray1[0]"
   ]
  },
  {
   "cell_type": "markdown",
   "metadata": {},
   "source": [
    "which represents the binary number 29 = 16+8+4+1.\n",
    "\n",
    "Note:\n",
    "\n",
    "- Exercise 6 below is mostly done for you. You may use this as inspiration for the others.\n",
    "- You may make use of functions that have been defined earlier in later functions (for example, the code in Exercise 6 uses the functions `decInt2Bin` and `dec2BinFixed` that were defined in Exercises 2 and 4 , respectively. \n"
   ]
  },
  {
   "cell_type": "markdown",
   "metadata": {},
   "source": [
    "Exercise 1: Create a function called 'bin2decInt' that converts the first 'nBits' in an array of bits (0's and 1's) to a _positive_ decimal integer. The function 'bin2decInt' has two arguments: \n",
    "\n",
    "- bitArray = array of bits, \n",
    "- nBits= num. of bits to convert\n",
    "\n",
    "Here is a step-by-step  example of how the algorithm:\n",
    "\n",
    "_Example_: Convert [1,0,1,1,0] to decimal\n",
    "\n",
    "- Take the top bit (1) as the first result\n",
    "- Multiply the first result by 2 and add the next bit (0) to get the second result: 2*1 + 0 = 2.\n",
    "- Multiply the second result by 2 and add the next bit (1) to get the third result: 2*2 + 1 = 5\n",
    "- Multiply the third result by 2 and add the next bit (1) to get the fourth result: 2*5 + 1 = 11\n",
    "- Multiply the fourth result by 2 and add the next bit (0) to get the fifth result: 2*11 + 0 = 22.\n",
    "\n",
    "A steps by step description of the code is given in the comments in the cell below. Note that you do not need to add any more statements: just complete the ones that are there."
   ]
  },
  {
   "cell_type": "code",
   "execution_count": 4,
   "metadata": {},
   "outputs": [
    {
     "name": "stdout",
     "output_type": "stream",
     "text": [
      "53\n"
     ]
    }
   ],
   "source": [
    "from numpy import *\n",
    "\n",
    "# a. Define the function using the 'def' statement\n",
    "def bin2decInt(bitArray, nBits):\n",
    "    \n",
    "# b. Initialize 'decVal' to zero.  decVal will contain the intermediate results, as well as the final result.\n",
    "    decVal = 0\n",
    "\n",
    "# c. Start a 'for' loop  Let k be your loop variable. k ranges from 0 to nBits,\n",
    "#    in order to run through all of the bits in bitArray\n",
    "    for k in range(nBits):\n",
    "# d. Multiply the previous result (which is stored in decVal) by 2, and add the next bit\n",
    "        result = 2 * decVal + bitArray[k]    \n",
    "        decVal = result\n",
    "\n",
    "# e. When the loop is finished, return the final value.    \n",
    "    return result\n",
    "    \n",
    "# f. Test the code by converting 110101 = 32 + 16  + 4 + 1\n",
    "\n",
    "a = array([1,1,0,1,0,1])\n",
    "b = len(a)\n",
    "print(bin2decInt(a,b))\n",
    "#print(bin2decInt(array([1,0,1,1,0]), 5))"
   ]
  },
  {
   "cell_type": "markdown",
   "metadata": {},
   "source": [
    "Exercise 2. Create a function 'decInt2bin' to convert a decimal integer to an array of nBits binary bits. \n",
    "The function 'decInt2bin' has two arguments:\n",
    "\n",
    "- bdecVal = decimal value to convert to binary \n",
    "- nBits= num. of bits in result\n",
    "\n",
    "An example of the algorithm for a specific case is as follows:\n",
    "\n",
    "_Example_: Convert 21 to an array of 6 binary bits:\n",
    "\n",
    "- The remainder of 21 when divided by 2 is 1, so 1 is the lowest bit\n",
    "- Do an integer divide of 21 by 2 to obtain the truncated value 10.  This has the effect of removing the last bit, and shifting all other bits to the right so that the last bit of this truncated value is the second bit of the original number.\n",
    "- The remainder of the truncated value (10) when divided by 2 is 0, so 0 is the second bit.\n",
    "- Do an integer divide of 10 by 2 to obtain the new truncated value (5)\n",
    "- The remainder of 5 when divided by 2 is 1, so 1 is the third bit.\n",
    "- Do an integer divide of 5 by 2 to obtain the new truncated value (2)\n",
    "- The remainder of 2 wend divided by 2 is 0, so 0 is the fourth bit.\n",
    "- Do an integer divide of 2 by 2 to obtain the new truncated value (1)\n",
    "- The remainder of 1 when divided by 2 is 1, so 1 is the fifth bit.\n",
    "- Do an integer divide of 1 by 2 to obtain the next truncted value (0)\n",
    "- The remainder of 0 when divided by 2 is 0, so 0 is the sixth bit.\n",
    "\n",
    "See if you can design your code to generalize this procedure. A step-by-step code outline is given below.  Note that each lettered item corresponds to 1 code statement."
   ]
  },
  {
   "cell_type": "code",
   "execution_count": 5,
   "metadata": {},
   "outputs": [
    {
     "name": "stdout",
     "output_type": "stream",
     "text": [
      "Binary array is: [1. 1. 0. 1. 0. 1. 1. 0. 1.] \n",
      "\n",
      "The equivalent decimalInteger is: 429.0 \n",
      "\n"
     ]
    }
   ],
   "source": [
    "from numpy import *\n",
    "\n",
    "# a. Define the function using the 'def' statement\n",
    "def decInt2bin (bdecVal, nBits):\n",
    "# b. Initialize an array called bitArray to contain the bits\n",
    "#     It's convenient to initialize as an array of zeros of length nBits\n",
    "    bitArray = zeros(nBits)\n",
    "\n",
    "# c. During the process of computation, we will be taking our original\n",
    "#    decimal value and changing it.  So we define another variable 'truncVal'to \n",
    "#    hold the changing value.  'truncVal' should be initialized to equal the \n",
    "#    decimal number to be converted\n",
    "    trunVal = bdecVal\n",
    "    \n",
    "# d. Next, start a 'for' loop to generate the bits one by one (from lowest\n",
    "#    to highest).  Let 'k' be your loop variable\n",
    "# e. Make the k'th bit = 0 if 'truncVal' is even, and 1 if 'truncVal' is odd\n",
    "# f. Shift truncVal so that all of the bits move to the right.\n",
    "# g. The bits are now in the wrong order (lowest to highest).  We want the \n",
    "#    bits in highest to lowest order.  So we reverse the order when we return the bits.\n",
    "# h. Test your code by converting 429 to a binary array of size 9, \n",
    "#    and back again (this will require two statements). Print both \n",
    "#    the binary array, and the reconverted result.\n",
    "    for k in range(nBits):\n",
    "        if trunVal % 2 == 0:\n",
    "            bitArray[k] = 0\n",
    "        elif trunVal % 2 == 1:\n",
    "            bitArray[k] = 1\n",
    "        else:\n",
    "            return(\"Please select an integer!\")\n",
    "            \n",
    "        \n",
    "        trunVal = trunVal // 2\n",
    "    return bitArray[::-1]\n",
    "\n",
    "a = 429\n",
    "b = 9\n",
    "\n",
    "p = decInt2bin(a, b)\n",
    "q= len(p)\n",
    "\n",
    "\n",
    "print(\"Binary array is:\", decInt2bin(a, b), \"\\n\")\n",
    "\n",
    "print(\"The equivalent decimalInteger is:\", bin2decInt(p,q), \"\\n\")\n",
    "\n",
    "\n"
   ]
  },
  {
   "cell_type": "code",
   "execution_count": 6,
   "metadata": {},
   "outputs": [
    {
     "data": {
      "text/plain": [
       "array([0., 1., 1., 0., 1., 0.])"
      ]
     },
     "execution_count": 6,
     "metadata": {},
     "output_type": "execute_result"
    }
   ],
   "source": [
    "decInt2bin(26, 6)"
   ]
  },
  {
   "cell_type": "markdown",
   "metadata": {},
   "source": [
    "Exercise  3. Create a function to convert a decimal value (`decVal`) to fixed point binary with `bitNums[0]` integer\n",
    "and `bitNums[1]` fractional bits. Call the function `decFixed2bin`.  \n",
    "\n",
    "The function takes two inputs: \n",
    "\n",
    "- `decVal` (decimal value)\n",
    "\n",
    "- `bitNums` (2-element list that contains the number of integer and fractional bits.\n",
    "\n",
    "The function returns as output an array of bits (0's and 1's) named `binArray`"
   ]
  },
  {
   "cell_type": "code",
   "execution_count": 7,
   "metadata": {},
   "outputs": [
    {
     "name": "stdout",
     "output_type": "stream",
     "text": [
      "[1. 0. 1. 0. 0. 0. 0. 1. 1.]\n"
     ]
    }
   ],
   "source": [
    "from numpy import *\n",
    "\n",
    "def dec2binFixed(decVal,bitNums):\n",
    "    bitArray = array([])\n",
    "    val = decVal\n",
    "    \n",
    "    Int = val // 1\n",
    "    Frac = val - Int\n",
    "    \n",
    "    if Int >= 1:\n",
    "        result1 = decInt2bin(Int, bitNums[0])\n",
    "        bitArray = append(bitArray, result1)\n",
    "        \n",
    "    elif Int < 1:\n",
    "        bitArray = append(bitArray, zeros(bitNums[0]))\n",
    "        \n",
    "    if Frac == 0:\n",
    "        bitArray = append(bitArray, zeros(bitNums[1]))\n",
    "        \n",
    "    else:\n",
    "        for k in range(bitNums[1]):\n",
    "            result2 = (2 * Frac) // 1\n",
    "            bitArray = append(bitArray, result2)\n",
    "            if result2 == 0:\n",
    "                Frac = 2 * Frac\n",
    "            elif result2 == 1:\n",
    "                Frac = (2*Frac) - 1\n",
    "    return bitArray\n",
    "\n",
    "\n",
    "print(dec2binFixed(20.1875, [5,4]))"
   ]
  },
  {
   "cell_type": "markdown",
   "metadata": {},
   "source": [
    "Exercise  4. Create a function named `bin2decFixed` that converts the  first `sum(bitNums)` bits in an array of bits \n",
    "to a positive decimal fixed point. `Here bitNums[0]` = no. integer bits and `bitNums[1]` = no. of fractional bits.\n",
    "Function inputs are:\n",
    "    \n",
    "- `binArray`  (array of binary bits)\n",
    "` `bitNums`  (list of two numbers, as described above)\n",
    "\n",
    "The function returns a decimal fixed point value.  You may find it useful to take advantage of the `bin2decInt` function that you created above."
   ]
  },
  {
   "cell_type": "code",
   "execution_count": 8,
   "metadata": {},
   "outputs": [
    {
     "name": "stdout",
     "output_type": "stream",
     "text": [
      "4.1875\n"
     ]
    }
   ],
   "source": [
    "from numpy import *\n",
    "\n",
    "def bin2decFixed(binArray, bitNums):\n",
    "    ## aiming to get 1/2, 1/4, 1/8...\n",
    "    a = array([])\n",
    "    for k in range(1, bitNums[1] + 1):\n",
    "        result1 = 2 ** (-k)\n",
    "        a = append(a, result1)\n",
    "        \n",
    "    # aiming to find the range of values to multiply with above    \n",
    "    b = binArray[bitNums[0] : sum(bitNums)]\n",
    "    \n",
    "    # c is the mantissa value\n",
    "    c = sum(a*b)\n",
    "    \n",
    "    dec_Val = bin2decInt(binArray[range(bitNums[0])], bitNums[0]) + c\n",
    "    \n",
    "    return dec_Val\n",
    "    \n",
    "p = array([0,1,0,0,0,0,1,1])\n",
    "q = [4, 4]\n",
    "    \n",
    "print(bin2decFixed(p,q))  \n",
    "\n"
   ]
  },
  {
   "cell_type": "markdown",
   "metadata": {},
   "source": [
    "Exercise 5. Test your decFixed2bin and bin2decFixed codes by converting fixed point decimal 337.45 \n",
    "to a fixed point binary with 10 integer and 6 fractional bits, and convert\n",
    "back again.  The final answer should nearly agree with 337.45 (why doesn't it\n",
    "agree exactly?)"
   ]
  },
  {
   "cell_type": "code",
   "execution_count": 9,
   "metadata": {},
   "outputs": [
    {
     "name": "stdout",
     "output_type": "stream",
     "text": [
      "Fixed point binary: [0. 1. 0. 1. 0. 1. 0. 0. 0. 1. 0. 1. 1. 1. 0. 0.] \n",
      "\n",
      "binary to Fixed point: 337.4375 \n",
      "\n",
      "a: [0. 1. 0. 1. 0. 1. 0. 0. 0. 1. 0. 1. 1. 1. 0. 0.] \n",
      "\n",
      "In 'b', the number of fractional bits is increased: ie 1 is added to the end of 'a'.\n",
      "b: [0. 1. 0. 1. 0. 1. 0. 0. 0. 1. 0. 1. 1. 1. 0. 0. 1.] \n",
      "\n",
      "Equiv. binary to Fixed point for b: 337.4453125 \n",
      "\n",
      "By increasing the number of fractional bits (mantissa) the precision increases. Therefore, the result isn't exactly 337.45 due to errors resulting from truncation.\n"
     ]
    }
   ],
   "source": [
    "a = dec2binFixed(337.45, [10,6])\n",
    "\n",
    "print(\"Fixed point binary:\", a, \"\\n\")\n",
    "\n",
    "print(\"binary to Fixed point:\", bin2decFixed(a, [10,6]), \"\\n\")\n",
    "\n",
    "b = dec2binFixed(337.45, [10,7])\n",
    "print(\"a:\", a, \"\\n\")\n",
    "\n",
    "print(\"In 'b', the number of fractional bits is increased: ie 1 is added to the end of 'a'.\")\n",
    "print(\"b:\", b, \"\\n\")\n",
    "print(\"Equiv. binary to Fixed point for b:\", bin2decFixed(b, [10,7]), \"\\n\")\n",
    "\n",
    "print(\"By increasing the number of fractional bits (mantissa) the precision increases. Therefore, the result isn't exactly 337.45 due to errors resulting from truncation.\")\n",
    "\n",
    "\n",
    "\n",
    "\n"
   ]
  },
  {
   "cell_type": "markdown",
   "metadata": {},
   "source": [
    "Exercise 6. Convert a decimal floating point to binary.  The function inputs are the\n",
    "decimal number, and a list called `bitNums` of 2 numbers giving the number of exponential \n",
    "bits in the converted result and the number of mantissa bits. The exponent is in biased form: the bias \n",
    "is `2**(bitNums[0]-1)`.  In other words, when you convert the exponent to an integer, add the bias before converting it to binary. \n",
    "\n",
    "You may complete the code outline below."
   ]
  },
  {
   "cell_type": "code",
   "execution_count": 13,
   "metadata": {},
   "outputs": [
    {
     "name": "stdout",
     "output_type": "stream",
     "text": [
      "(array([0., 0., 1., 1., 0.]), array([0., 1., 0., 0., 0., 0., 1., 0., 0., 1.]))\n"
     ]
    }
   ],
   "source": [
    "from numpy import *\n",
    "\n",
    "# Code for Exercise 6. There are 2 statements for you to complete.\n",
    "def decFloat2bin(decVal,bitNums):\n",
    "    nExpBits = bitNums[0]\n",
    "    nMantBits = bitNums[1]\n",
    "    expIntVal = int(floor(log2(decVal)))\n",
    "    expIntBiased = expIntVal + 2**(bitNums[0]-1)\n",
    "    expBitArray = decInt2bin(expIntBiased,nExpBits)\n",
    "    mantDecVal = decVal/(2**expIntVal)-1\n",
    "    mantBitArray= dec2binFixed(mantDecVal,[0,nMantBits])\n",
    "    return expBitArray,mantBitArray\n",
    "# The following statement tests the code\n",
    "# Note the code will not work until you write the functions decInt2bin and dec2binFixed\n",
    "print(decFloat2bin(.00123,[5,10]))"
   ]
  },
  {
   "cell_type": "markdown",
   "metadata": {},
   "source": [
    "Exercise 7.  Create a code that converts a binary exponent and binary mantissa into a floating point decimal"
   ]
  },
  {
   "cell_type": "code",
   "execution_count": 14,
   "metadata": {},
   "outputs": [],
   "source": [
    "from numpy import *\n",
    "\n",
    "# Code for Exercise 7\n",
    "def bin2decFloat(expBitArray,mantBitArray):\n",
    "    exp_biased = bin2decFixed(expBitArray, [len(expBitArray), 0])\n",
    "    exp_int_val = exp_biased - 2**(len(expBitArray)-1)\n",
    "    mant_w_leading1 = append(array([1]), mantBitArray)\n",
    "    mant_val_plus1 = bin2decFixed(mant_w_leading1, [1, len(mantBitArray)])\n",
    "    decVal = mant_val_plus1 * 2**exp_int_val\n",
    "    \n",
    "    return decVal"
   ]
  },
  {
   "cell_type": "markdown",
   "metadata": {},
   "source": [
    "8. Test your `decFloat2bin` and `bin2decFloat` codes by converting 17.9E12 to\n",
    "binary with 7 exponent bits and 9 mantissa bits, and back again."
   ]
  },
  {
   "cell_type": "code",
   "execution_count": 23,
   "metadata": {},
   "outputs": [
    {
     "name": "stdout",
     "output_type": "stream",
     "text": [
      "(array([1., 1., 0., 1., 1., 0., 0.]), array([0., 0., 0., 0., 0., 1., 0., 0., 0.]))\n",
      "17867063951360.0\n"
     ]
    }
   ],
   "source": [
    "# Put your code for #8 here.\n",
    "\n",
    "a = print(decFloat2bin(17.9 * (10**12),[7,9]))\n",
    "\n",
    "a_exp_array = array([1,1,0,1,1,0,0])\n",
    "a_mant_array = array([0,0,0,0,0,1,0,0,0])\n",
    "\n",
    "\n",
    "print(bin2decFloat(b, c))\n"
   ]
  },
  {
   "cell_type": "code",
   "execution_count": null,
   "metadata": {},
   "outputs": [],
   "source": []
  },
  {
   "cell_type": "code",
   "execution_count": null,
   "metadata": {},
   "outputs": [],
   "source": []
  }
 ],
 "metadata": {
  "kernelspec": {
   "display_name": "Python 3",
   "language": "python",
   "name": "python3"
  },
  "language_info": {
   "codemirror_mode": {
    "name": "ipython",
    "version": 3
   },
   "file_extension": ".py",
   "mimetype": "text/x-python",
   "name": "python",
   "nbconvert_exporter": "python",
   "pygments_lexer": "ipython3",
   "version": "3.7.3"
  }
 },
 "nbformat": 4,
 "nbformat_minor": 2
}
